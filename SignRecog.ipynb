{
 "cells": [
  {
   "cell_type": "markdown",
   "metadata": {},
   "source": [
    "# Imports"
   ]
  },
  {
   "cell_type": "code",
   "execution_count": 11,
   "metadata": {},
   "outputs": [],
   "source": [
    "import cv2\n",
    "import numpy as np\n",
    "import os\n",
    "import matplotlib.pyplot as plt"
   ]
  },
  {
   "cell_type": "code",
   "execution_count": 12,
   "metadata": {},
   "outputs": [],
   "source": [
    "# Mapping for recognized traffic signs\n",
    "def classify_sign(orb_match_result):\n",
    "    \"\"\"Maps ORB matching results to actual traffic sign names.\"\"\"\n",
    "    sign_labels = {\n",
    "        \"0\": \"Speed limit (20km/h)\", \"1\": \"Speed limit (30km/h)\", \"2\": \"Speed limit (50km/h)\",\n",
    "        \"3\": \"Speed limit (60km/h)\", \"4\": \"Speed limit (70km/h)\", \"5\": \"Speed limit (80km/h)\",\n",
    "        \"6\": \"End of speed limit (80km/h)\", \"7\": \"Speed limit (100km/h)\", \"8\": \"Speed limit (120km/h)\",\n",
    "        \"9\": \"No passing\", \"10\": \"No passing for vehicles over 3.5 tons\", \"11\": \"Right-of-way at intersection\",\n",
    "        \"12\": \"Priority road\", \"13\": \"Yield\", \"14\": \"Stop\", \"15\": \"No vehicles\",\n",
    "        \"16\": \"Vehicles > 3.5 tons prohibited\", \"17\": \"No entry\", \"18\": \"General caution\",\n",
    "        \"19\": \"Dangerous curve left\", \"20\": \"Dangerous curve right\", \"21\": \"Double curve\",\n",
    "        \"22\": \"Bumpy road\", \"23\": \"Slippery road\", \"24\": \"Road narrows on the right\",\n",
    "        \"25\": \"Road work\", \"26\": \"Traffic signals\", \"27\": \"Pedestrians\", \"28\": \"Children crossing\",\n",
    "        \"29\": \"Bicycles crossing\", \"30\": \"Beware of ice/snow\", \"31\": \"Wild animals crossing\",\n",
    "        \"32\": \"End speed + passing limits\", \"33\": \"Turn right ahead\", \"34\": \"Turn left ahead\",\n",
    "        \"35\": \"Ahead only\", \"36\": \"Go straight or right\", \"37\": \"Go straight or left\",\n",
    "        \"38\": \"Keep right\", \"39\": \"Keep left\", \"40\": \"Roundabout mandatory\",\n",
    "        \"41\": \"End of no passing\", \"42\": \"End no passing for vehicles > 3.5 tons\"\n",
    "    }\n",
    "    return sign_labels.get(orb_match_result, \"Unknown Traffic Sign\")"
   ]
  },
  {
   "cell_type": "code",
   "execution_count": 13,
   "metadata": {},
   "outputs": [],
   "source": [
    "# Function to Load and Preprocess Images\n",
    "def preprocess_image(image_path):\n",
    "    \"\"\"Loads an image, converts it to HSV, applies Gaussian blur, and performs Canny edge detection.\"\"\"\n",
    "    image = cv2.imread(image_path)\n",
    "    if image is None:\n",
    "        raise ValueError(f\"Failed to load image {image_path}\")\n",
    "    image = cv2.resize(image, (50, 50))  # Standardized size\n",
    "    hsv = cv2.cvtColor(image, cv2.COLOR_BGR2HSV)\n",
    "    blurred = cv2.GaussianBlur(hsv, (5, 5), 0)\n",
    "    gray = cv2.cvtColor(blurred, cv2.COLOR_BGR2GRAY)\n",
    "    edges = cv2.Canny(gray, 50, 150)\n",
    "    return image, gray, edges"
   ]
  },
  {
   "cell_type": "code",
   "execution_count": 14,
   "metadata": {},
   "outputs": [],
   "source": [
    "# Function to Detect Shapes in Images\n",
    "def detect_shapes(gray, edges):\n",
    "    \"\"\"Detects road sign shapes (circles, triangles, rectangles) using contour analysis.\"\"\"\n",
    "    shapes = []\n",
    "    contours, _ = cv2.findContours(edges.copy(), cv2.RETR_TREE, cv2.CHAIN_APPROX_SIMPLE)\n",
    "    for cnt in contours:\n",
    "        if cv2.contourArea(cnt) < 0.01 * gray.shape[0] * gray.shape[1]:  # Dynamic threshold\n",
    "            continue\n",
    "        peri = cv2.arcLength(cnt, True)\n",
    "        approx = cv2.approxPolyDP(cnt, 0.02 * peri, True)\n",
    "        if len(approx) == 3:\n",
    "            shapes.append(\"Triangle (Warning Sign)\")\n",
    "        elif len(approx) == 4:\n",
    "            shapes.append(\"Rectangle (Information Sign)\")\n",
    "        elif len(approx) > 5:\n",
    "            shapes.append(\"Circle (Prohibitory Sign)\")\n",
    "    return shapes"
   ]
  },
  {
   "cell_type": "code",
   "execution_count": 15,
   "metadata": {},
   "outputs": [],
   "source": [
    "# Function to Extract ORB Features\n",
    "def extract_ORB_features(image):\n",
    "    \"\"\"Extracts ORB keypoints and descriptors from an image.\"\"\"\n",
    "    orb = cv2.ORB_create()\n",
    "    keypoints, descriptors = orb.detectAndCompute(image, None)\n",
    "    return keypoints, descriptors\n",
    "\n"
   ]
  },
  {
   "cell_type": "code",
   "execution_count": 16,
   "metadata": {},
   "outputs": [],
   "source": [
    "# Load Reference Images and Extract ORB Features\n",
    "def load_reference_features(reference_folder):\n",
    "    ref_features = {}\n",
    "    orb = cv2.ORB_create()\n",
    "    for file in os.listdir(reference_folder):\n",
    "        file_path = os.path.join(reference_folder, file)\n",
    "        ref_image = cv2.imread(file_path)\n",
    "        if ref_image is None:\n",
    "            continue\n",
    "        ref_gray = cv2.cvtColor(ref_image, cv2.COLOR_BGR2GRAY)\n",
    "        _, descriptors = orb.detectAndCompute(ref_gray, None)\n",
    "        sign_name = os.path.splitext(file)[0]\n",
    "        ref_features[sign_name] = descriptors\n",
    "    return ref_features"
   ]
  },
  {
   "cell_type": "code",
   "execution_count": 17,
   "metadata": {},
   "outputs": [],
   "source": [
    "# Recognizing Signs using ORB Feature Matching\n",
    "def recognize_sign(test_image_gray, ref_features):\n",
    "    orb = cv2.ORB_create()\n",
    "    _, test_des = orb.detectAndCompute(test_image_gray, None)\n",
    "    if test_des is None:\n",
    "        return \"Unknown\"\n",
    "    bf = cv2.BFMatcher(cv2.NORM_HAMMING, crossCheck=True)\n",
    "    best_match_count = 0\n",
    "    recognized_sign = \"Unknown\"\n",
    "    for sign_name, ref_des in ref_features.items():\n",
    "        if ref_des is None:\n",
    "            continue\n",
    "        matches = bf.match(test_des, ref_des)\n",
    "        good_matches = [m for m in matches if m.distance < 60]\n",
    "        if len(good_matches) > best_match_count:\n",
    "            best_match_count = len(good_matches)\n",
    "            recognized_sign = sign_name\n",
    "    if best_match_count < 10:\n",
    "        recognized_sign = \"Unknown\"\n",
    "    return classify_sign(recognized_sign)"
   ]
  },
  {
   "cell_type": "code",
   "execution_count": 23,
   "metadata": {},
   "outputs": [],
   "source": [
    "def process_test_images(test_folder, reference_folder):\n",
    "    # Load reference features from the specified folder\n",
    "    ref_features = load_reference_features(reference_folder)\n",
    "    results = []\n",
    "    # Iterate through the files in the test folder\n",
    "    for file in os.listdir(test_folder):\n",
    "        file_path = os.path.join(test_folder, file)\n",
    "        try:\n",
    "            # Preprocess image and extract the grayscale image\n",
    "            image, gray, edges = preprocess_image(file_path)\n",
    "        except Exception as e:\n",
    "            # Skip files that cannot be processed\n",
    "            continue\n",
    "    # Recognize the sign from the grayscale image using reference features\n",
    "    recognized = recognize_sign(gray, ref_features)\n",
    "    # Append a tuple with the filename, image path, and recognized label\n",
    "    results.append((file, file_path, recognized))\n",
    "    return results"
   ]
  },
  {
   "cell_type": "code",
   "execution_count": 30,
   "metadata": {},
   "outputs": [
    {
     "data": {
      "image/png": "[encoded data removed]",
      "text/plain": [
       "<Figure size 640x480 with 1 Axes>"
      ]
     },
     "metadata": {},
     "output_type": "display_data"
    }
   ],
   "source": [
    "# Running the Pipeline on Sample Images\n",
    "test_folder = \"gtsrb-german-traffic-sign/Test\"\n",
    "reference_folder = \"gtsrb-german-traffic-sign/Meta\"\n",
    "results = process_test_images(test_folder, reference_folder)\n",
    "\n",
    "# Displaying Results for First Image\n",
    "if results:\n",
    "    test_image_path = os.path.join(test_folder, results[0][0])\n",
    "    img = cv2.imread(test_image_path)\n",
    "    plt.imshow(cv2.cvtColor(img, cv2.COLOR_BGR2RGB))\n",
    "    plt.title(f\"Recognized Sign: {results[0][2]}\")\n",
    "    plt.show()"
   ]
  },
  {
   "cell_type": "code",
   "execution_count": null,
   "metadata": {},
   "outputs": [],
   "source": []
  }
 ],
 "metadata": {
  "kernelspec": {
   "display_name": "Python (gis_env)",
   "language": "python",
   "name": "gis_env"
  },
  "language_info": {
   "codemirror_mode": {
    "name": "ipython",
    "version": 3
   },
   "file_extension": ".py",
   "mimetype": "text/x-python",
   "name": "python",
   "nbconvert_exporter": "python",
   "pygments_lexer": "ipython3",
   "version": "3.8.18"
  }
 },
 "nbformat": 4,
 "nbformat_minor": 2
}
